{
  "nbformat": 4,
  "nbformat_minor": 0,
  "metadata": {
    "colab": {
      "provenance": []
    },
    "kernelspec": {
      "name": "python3",
      "display_name": "Python 3"
    },
    "language_info": {
      "name": "python"
    }
  },
  "cells": [
    {
      "cell_type": "code",
      "execution_count": null,
      "metadata": {
        "colab": {
          "base_uri": "https://localhost:8080/"
        },
        "id": "KM_CS7LRTnKq",
        "outputId": "aa5f4f05-f5aa-4e67-8e85-2baf06e4e7ec"
      },
      "outputs": [
        {
          "output_type": "stream",
          "name": "stdout",
          "text": [
            "Requirement already satisfied: openai==0.28.0 in /usr/local/lib/python3.11/dist-packages (0.28.0)\n",
            "Requirement already satisfied: requests>=2.20 in /usr/local/lib/python3.11/dist-packages (from openai==0.28.0) (2.32.3)\n",
            "Requirement already satisfied: tqdm in /usr/local/lib/python3.11/dist-packages (from openai==0.28.0) (4.67.1)\n",
            "Requirement already satisfied: aiohttp in /usr/local/lib/python3.11/dist-packages (from openai==0.28.0) (3.11.15)\n",
            "Requirement already satisfied: charset-normalizer<4,>=2 in /usr/local/lib/python3.11/dist-packages (from requests>=2.20->openai==0.28.0) (3.4.2)\n",
            "Requirement already satisfied: idna<4,>=2.5 in /usr/local/lib/python3.11/dist-packages (from requests>=2.20->openai==0.28.0) (3.10)\n",
            "Requirement already satisfied: urllib3<3,>=1.21.1 in /usr/local/lib/python3.11/dist-packages (from requests>=2.20->openai==0.28.0) (2.4.0)\n",
            "Requirement already satisfied: certifi>=2017.4.17 in /usr/local/lib/python3.11/dist-packages (from requests>=2.20->openai==0.28.0) (2025.4.26)\n",
            "Requirement already satisfied: aiohappyeyeballs>=2.3.0 in /usr/local/lib/python3.11/dist-packages (from aiohttp->openai==0.28.0) (2.6.1)\n",
            "Requirement already satisfied: aiosignal>=1.1.2 in /usr/local/lib/python3.11/dist-packages (from aiohttp->openai==0.28.0) (1.3.2)\n",
            "Requirement already satisfied: attrs>=17.3.0 in /usr/local/lib/python3.11/dist-packages (from aiohttp->openai==0.28.0) (25.3.0)\n",
            "Requirement already satisfied: frozenlist>=1.1.1 in /usr/local/lib/python3.11/dist-packages (from aiohttp->openai==0.28.0) (1.6.0)\n",
            "Requirement already satisfied: multidict<7.0,>=4.5 in /usr/local/lib/python3.11/dist-packages (from aiohttp->openai==0.28.0) (6.4.3)\n",
            "Requirement already satisfied: propcache>=0.2.0 in /usr/local/lib/python3.11/dist-packages (from aiohttp->openai==0.28.0) (0.3.1)\n",
            "Requirement already satisfied: yarl<2.0,>=1.17.0 in /usr/local/lib/python3.11/dist-packages (from aiohttp->openai==0.28.0) (1.20.0)\n",
            "Collecting python-dotenv\n",
            "  Downloading python_dotenv-1.1.0-py3-none-any.whl.metadata (24 kB)\n",
            "Downloading python_dotenv-1.1.0-py3-none-any.whl (20 kB)\n",
            "Installing collected packages: python-dotenv\n",
            "Successfully installed python-dotenv-1.1.0\n"
          ]
        }
      ],
      "source": [
        "!pip install openai==0.28.0\n",
        "!pip install python-dotenv"
      ]
    },
    {
      "cell_type": "code",
      "source": [
        "import openai\n",
        "import json\n",
        "from typing import List, Dict\n",
        "import os\n",
        "from dotenv import load_dotenv\n",
        "\n",
        "# 🔐 Load environment variables from .env file\n",
        "load_dotenv()\n",
        "openai.api_key = os.getenv(\"OPENAI_API_KEY\")\n",
        "\n",
        "# 🧼 Preprocessing\n",
        "def preprocess_feedback(feedback: List[str]) -> List[str]:\n",
        "    return [text.strip() for text in feedback if text.strip()]\n",
        "\n",
        "# 📬 Prompt Template\n",
        "def build_prompt(feedback: List[str]) -> str:\n",
        "    input_text = \"\\n\".join(f\"- {resp}\" for resp in feedback)\n",
        "    return f\"\"\"\n",
        "You are an AI assistant helping a product team analyze survey feedback.\n",
        "\n",
        "Your task is to generate 3 Insight Cards based on the following responses.\n",
        "Each card should have a short theme, 1-2 representative quotes, and a sentiment (positive, neutral, or negative).\n",
        "\n",
        "Survey Responses:\n",
        "{input_text}\n",
        "\n",
        "Respond in JSON format like this:\n",
        "[\n",
        "  {{\n",
        "    \"theme\": \"...\",\n",
        "    \"quotes\": [\"...\", \"...\"],\n",
        "    \"sentiment\": \"...\"\n",
        "  }},\n",
        "  ...\n",
        "]\n",
        "\"\"\"\n",
        "\n",
        "# 🤖 Call to OpenAI\n",
        "def generate_insights(feedback: List[str]) -> List[Dict]:\n",
        "    prompt = build_prompt(feedback)\n",
        "    response = openai.ChatCompletion.create(\n",
        "        model=\"gpt-3.5-turbo\",  # safer and cheaper than GPT-4\n",
        "        messages=[\n",
        "            {\"role\": \"system\", \"content\": \"You are a helpful assistant for product feedback analysis.\"},\n",
        "            {\"role\": \"user\", \"content\": prompt}\n",
        "        ],\n",
        "        temperature=0.5,\n",
        "        max_tokens=800\n",
        "    )\n",
        "    output = response['choices'][0]['message']['content'].strip()\n",
        "    try:\n",
        "        return json.loads(output)\n",
        "    except json.JSONDecodeError:\n",
        "        print(\"⚠️ Error decoding JSON. Raw output:\\n\", output)\n",
        "        return []  # Properly return an empty list if JSON parsing fails\n",
        "\n",
        "\n",
        "# 🖨️ Main execution\n",
        "if __name__ == \"__main__\":\n",
        "    sample_feedback = [\n",
        "        \"I love the idea of an AI that writes emails...\",\n",
        "        \"Privacy is my biggest concern...\",\n",
        "        \"If this works with Gmail and Slack...\",\n",
        "        \"Make sure it doesn't sound robotic.\",\n",
        "        \"Would love integrations, but only if they’re secure.\"\n",
        "    ]\n",
        "\n",
        "    cleaned_feedback = preprocess_feedback(sample_feedback)\n",
        "    insights = generate_insights(cleaned_feedback)\n",
        "\n",
        "    print(json.dumps(insights, indent=2))\n"
      ],
      "metadata": {
        "id": "1gjKL1nATqxJ"
      },
      "execution_count": null,
      "outputs": []
    },
    {
      "cell_type": "code",
      "source": [
        "[\n",
        "  {\n",
        "    \"theme\": \"Privacy Concerns\",\n",
        "    \"quotes\": [\n",
        "      \"Privacy is my biggest concern...\",\n",
        "      \"Would love integrations, but only if they’re secure.\"\n",
        "    ],\n",
        "    \"sentiment\": \"neutral\"\n",
        "  },\n",
        "  {\n",
        "    \"theme\": \"AI Writing Assistance\",\n",
        "    \"quotes\": [\n",
        "      \"I love the idea of an AI that writes emails...\",\n",
        "      \"Make sure it doesn't sound robotic.\"\n",
        "    ],\n",
        "    \"sentiment\": \"positive\"\n",
        "  },\n",
        "  {\n",
        "    \"theme\": \"Integration with Communication Tools\",\n",
        "    \"quotes\": [\n",
        "      \"If this works with Gmail and Slack...\",\n",
        "      \"Would love integrations, but only if they’re secure.\"\n",
        "    ],\n",
        "    \"sentiment\": \"positive\"\n",
        "  }\n",
        "]\n"
      ],
      "metadata": {
        "id": "K_RWSF0WTt_Y"
      },
      "execution_count": 12,
      "outputs": []
    },
    {
      "cell_type": "code",
      "source": [],
      "metadata": {
        "id": "XISOi9_FT20f"
      },
      "execution_count": null,
      "outputs": []
    }
  ]
}